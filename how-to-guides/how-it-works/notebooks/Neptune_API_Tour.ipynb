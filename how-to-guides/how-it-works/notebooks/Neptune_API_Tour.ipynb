{
 "cells": [
  {
   "cell_type": "markdown",
   "metadata": {
    "colab_type": "text",
    "id": "dbL6wnySOyQ6",
    "tags": [
     "header"
    ]
   },
   "source": [
    "# Neptune API tour\n"
   ]
  },
  {
   "cell_type": "markdown",
   "metadata": {
    "tags": [
     "header"
    ]
   },
   "source": [
    "## Introduction"
   ]
  },
  {
   "cell_type": "markdown",
   "metadata": {
    "tags": [
     "comment"
    ]
   },
   "source": [
    "This guide will show you how to:\n",
    "\n",
    "* Install neptune-client\n",
    "* Connect Neptune to your script and create the first run\n",
    "* Log simple metrics to Neptune and explore the in the UI\n",
    "* Log learning curves, images and model binaries from Keras training and see those in the Neptune UI\n",
    "* Fetch the data you logged to Neptune directly into your notebook and analyze them \n",
    "\n",
    "By the end of it, you will execute your first run and see it in Neptune!"
   ]
  },
  {
   "cell_type": "markdown",
   "metadata": {
    "tags": [
     "header"
    ]
   },
   "source": [
    "## Setup"
   ]
  },
  {
   "cell_type": "markdown",
   "metadata": {
    "tags": [
     "comment"
    ]
   },
   "source": [
    "Install Neptune client"
   ]
  },
  {
   "cell_type": "code",
   "execution_count": 1,
   "metadata": {
    "colab": {},
    "colab_type": "code",
    "id": "jnOHCjCZ4W4a",
    "tags": [
     "installation"
    ]
   },
   "outputs": [
    {
     "name": "stdout",
     "output_type": "stream",
     "text": [
      "Collecting neptune-client\n",
      "  Downloading neptune-client-0.16.2.tar.gz (316 kB)\n",
      "Requirement already satisfied: click>=7.0 in c:\\users\\schwabw\\anaconda3\\envs\\sna\\lib\\site-packages (from neptune-client) (7.1.2)\n",
      "Requirement already satisfied: future>=0.17.1 in c:\\users\\schwabw\\anaconda3\\envs\\sna\\lib\\site-packages (from neptune-client) (0.18.2)\n",
      "Requirement already satisfied: oauthlib>=2.1.0 in c:\\users\\schwabw\\anaconda3\\envs\\sna\\lib\\site-packages (from neptune-client) (3.1.0)\n",
      "Requirement already satisfied: pandas in c:\\users\\schwabw\\anaconda3\\envs\\sna\\lib\\site-packages (from neptune-client) (1.3.2)\n",
      "Requirement already satisfied: Pillow>=1.1.6 in c:\\users\\schwabw\\anaconda3\\envs\\sna\\lib\\site-packages (from neptune-client) (8.1.0)\n",
      "Requirement already satisfied: requests>=2.20.0 in c:\\users\\schwabw\\anaconda3\\envs\\sna\\lib\\site-packages (from neptune-client) (2.27.1)\n",
      "Requirement already satisfied: requests-oauthlib>=1.0.0 in c:\\users\\schwabw\\anaconda3\\envs\\sna\\lib\\site-packages (from neptune-client) (1.3.0)\n",
      "Requirement already satisfied: six>=1.12.0 in c:\\users\\schwabw\\anaconda3\\envs\\sna\\lib\\site-packages (from neptune-client) (1.15.0)\n",
      "Requirement already satisfied: websocket-client!=1.0.0,>=0.35.0 in c:\\users\\schwabw\\anaconda3\\envs\\sna\\lib\\site-packages (from neptune-client) (1.3.2)\n",
      "Requirement already satisfied: GitPython>=2.0.8 in c:\\users\\schwabw\\anaconda3\\envs\\sna\\lib\\site-packages (from neptune-client) (3.1.27)\n",
      "Requirement already satisfied: packaging in c:\\users\\schwabw\\anaconda3\\envs\\sna\\lib\\site-packages (from neptune-client) (20.8)\n",
      "Requirement already satisfied: urllib3 in c:\\users\\schwabw\\anaconda3\\envs\\sna\\lib\\site-packages (from neptune-client) (1.26.2)\n",
      "Collecting boto3>=1.16.0\n",
      "  Downloading boto3-1.23.1-py3-none-any.whl (132 kB)\n",
      "Collecting botocore<1.27.0,>=1.26.1\n",
      "  Downloading botocore-1.26.1-py3-none-any.whl (8.7 MB)\n",
      "Requirement already satisfied: python-dateutil<3.0.0,>=2.1 in c:\\users\\schwabw\\anaconda3\\envs\\sna\\lib\\site-packages (from botocore<1.27.0,>=1.26.1->boto3>=1.16.0->neptune-client) (2.8.1)\n",
      "Requirement already satisfied: gitdb<5,>=4.0.1 in c:\\users\\schwabw\\anaconda3\\envs\\sna\\lib\\site-packages (from GitPython>=2.0.8->neptune-client) (4.0.9)\n",
      "Requirement already satisfied: smmap<6,>=3.0.1 in c:\\users\\schwabw\\anaconda3\\envs\\sna\\lib\\site-packages (from gitdb<5,>=4.0.1->GitPython>=2.0.8->neptune-client) (3.0.5)\n",
      "Collecting jmespath<2.0.0,>=0.7.1\n",
      "  Downloading jmespath-1.0.0-py3-none-any.whl (23 kB)\n",
      "Requirement already satisfied: charset-normalizer~=2.0.0 in c:\\users\\schwabw\\anaconda3\\envs\\sna\\lib\\site-packages (from requests>=2.20.0->neptune-client) (2.0.12)\n",
      "Requirement already satisfied: idna<4,>=2.5 in c:\\users\\schwabw\\anaconda3\\envs\\sna\\lib\\site-packages (from requests>=2.20.0->neptune-client) (2.10)\n",
      "Requirement already satisfied: certifi>=2017.4.17 in c:\\users\\schwabw\\anaconda3\\envs\\sna\\lib\\site-packages (from requests>=2.20.0->neptune-client) (2021.10.8)\n",
      "Collecting s3transfer<0.6.0,>=0.5.0\n",
      "  Downloading s3transfer-0.5.2-py3-none-any.whl (79 kB)\n",
      "Collecting swagger-spec-validator>=2.7.4\n",
      "  Downloading swagger_spec_validator-2.7.4-py2.py3-none-any.whl (27 kB)\n",
      "Requirement already satisfied: pyyaml in c:\\users\\schwabw\\anaconda3\\envs\\sna\\lib\\site-packages (from swagger-spec-validator>=2.7.4->neptune-client) (5.4.1)\n",
      "Requirement already satisfied: jsonschema in c:\\users\\schwabw\\anaconda3\\envs\\sna\\lib\\site-packages (from swagger-spec-validator>=2.7.4->neptune-client) (3.2.0)\n",
      "Collecting bravado\n",
      "  Downloading bravado-11.0.3-py2.py3-none-any.whl (38 kB)\n",
      "Requirement already satisfied: typing-extensions in c:\\users\\schwabw\\anaconda3\\envs\\sna\\lib\\site-packages (from bravado->neptune-client) (4.2.0)\n",
      "Collecting bravado-core>=5.16.1\n",
      "  Downloading bravado_core-5.17.0-py2.py3-none-any.whl (67 kB)\n",
      "Requirement already satisfied: pytz in c:\\users\\schwabw\\anaconda3\\envs\\sna\\lib\\site-packages (from bravado-core>=5.16.1->bravado->neptune-client) (2020.4)\n",
      "Requirement already satisfied: pyrsistent>=0.14.0 in c:\\users\\schwabw\\anaconda3\\envs\\sna\\lib\\site-packages (from jsonschema->swagger-spec-validator>=2.7.4->neptune-client) (0.17.3)\n",
      "Requirement already satisfied: setuptools in c:\\users\\schwabw\\anaconda3\\envs\\sna\\lib\\site-packages (from jsonschema->swagger-spec-validator>=2.7.4->neptune-client) (51.0.0.post20201207)\n",
      "Requirement already satisfied: attrs>=17.4.0 in c:\\users\\schwabw\\anaconda3\\envs\\sna\\lib\\site-packages (from jsonschema->swagger-spec-validator>=2.7.4->neptune-client) (20.3.0)\n",
      "Collecting jsonpointer>1.13\n",
      "  Downloading jsonpointer-2.3-py2.py3-none-any.whl (7.8 kB)\n",
      "Collecting msgpack\n",
      "  Downloading msgpack-1.0.3-cp39-cp39-win_amd64.whl (69 kB)\n",
      "Collecting jsonref\n",
      "  Downloading jsonref-0.2-py3-none-any.whl (9.3 kB)\n",
      "Collecting monotonic\n",
      "  Downloading monotonic-1.6-py2.py3-none-any.whl (8.2 kB)\n",
      "Requirement already satisfied: pyparsing>=2.0.2 in c:\\users\\schwabw\\anaconda3\\envs\\sna\\lib\\site-packages (from packaging->neptune-client) (2.4.7)\n",
      "Requirement already satisfied: numpy>=1.17.3 in c:\\users\\schwabw\\anaconda3\\envs\\sna\\lib\\site-packages (from pandas->neptune-client) (1.22.3)\n",
      "Collecting psutil\n",
      "  Downloading psutil-5.9.0-cp39-cp39-win_amd64.whl (245 kB)\n",
      "Collecting PyJWT\n",
      "  Downloading PyJWT-2.4.0-py3-none-any.whl (18 kB)\n",
      "Collecting rfc3987\n",
      "  Downloading rfc3987-1.3.8-py2.py3-none-any.whl (13 kB)\n",
      "Collecting simplejson\n",
      "  Downloading simplejson-3.17.6-cp39-cp39-win_amd64.whl (75 kB)\n",
      "Collecting strict-rfc3339\n",
      "  Downloading strict-rfc3339-0.7.tar.gz (17 kB)\n",
      "Collecting webcolors\n",
      "  Downloading webcolors-1.11.1-py3-none-any.whl (9.9 kB)\n",
      "Building wheels for collected packages: neptune-client, strict-rfc3339\n",
      "  Building wheel for neptune-client (setup.py): started\n",
      "  Building wheel for neptune-client (setup.py): finished with status 'done'\n",
      "  Created wheel for neptune-client: filename=neptune_client-0.16.2-py2.py3-none-any.whl size=566326 sha256=09302ce701a37ced2a9d4b4710830e0463bf09ae3c8e6fdf1a047437f17f466b\n",
      "  Stored in directory: c:\\users\\schwabw\\appdata\\local\\pip\\cache\\wheels\\17\\4f\\3c\\a9b1ad792f7f3d6dc47cfd4790241a2194857bdf023b937b0b\n",
      "  Building wheel for strict-rfc3339 (setup.py): started\n",
      "  Building wheel for strict-rfc3339 (setup.py): finished with status 'done'\n",
      "  Created wheel for strict-rfc3339: filename=strict_rfc3339-0.7-py3-none-any.whl size=18119 sha256=b90443ea4929bee8456a4e6a1c37e43984e60ec41fbb53bb3d2518ae30be18d9\n",
      "  Stored in directory: c:\\users\\schwabw\\appdata\\local\\pip\\cache\\wheels\\25\\38\\74\\7ec7f77ec64b2907430120931ba588b40e6e26f02d4df5be35\n",
      "Successfully built neptune-client strict-rfc3339\n",
      "Installing collected packages: webcolors, strict-rfc3339, rfc3987, jsonpointer, jmespath, swagger-spec-validator, simplejson, msgpack, jsonref, botocore, s3transfer, monotonic, bravado-core, PyJWT, psutil, bravado, boto3, neptune-client\n",
      "Successfully installed PyJWT-2.4.0 boto3-1.23.1 botocore-1.26.1 bravado-11.0.3 bravado-core-5.17.0 jmespath-1.0.0 jsonpointer-2.3 jsonref-0.2 monotonic-1.6 msgpack-1.0.3 neptune-client-0.16.2 psutil-5.9.0 rfc3987-1.3.8 s3transfer-0.5.2 simplejson-3.17.6 strict-rfc3339-0.7 swagger-spec-validator-2.7.4 webcolors-1.11.1\n"
     ]
    }
   ],
   "source": [
    "! pip install neptune-client"
   ]
  },
  {
   "cell_type": "markdown",
   "metadata": {
    "colab_type": "text",
    "id": "7LFLtV5R5JKT",
    "tags": [
     "header"
    ]
   },
   "source": [
    "## Initialize Neptune"
   ]
  },
  {
   "cell_type": "markdown",
   "metadata": {
    "tags": [
     "comment"
    ]
   },
   "source": [
    "Connect your script to Neptune application and create new run."
   ]
  },
  {
   "cell_type": "code",
   "execution_count": 1,
   "metadata": {
    "colab": {
     "base_uri": "https://localhost:8080/",
     "height": 71
    },
    "colab_type": "code",
    "id": "XMdpj-Se4t0U",
    "outputId": "d66a1df2-ed95-4790-c799-fe7f6a980b39",
    "tags": [
     "code"
    ]
   },
   "outputs": [
    {
     "name": "stdout",
     "output_type": "stream",
     "text": [
      "https://app.neptune.ai/wolfgang.schwab/MLOPS/e/MLOP-8\n"
     ]
    },
    {
     "name": "stderr",
     "output_type": "stream",
     "text": [
      "Info (NVML): NVML Shared Library Not Found. GPU usage metrics may not be reported. For more information, see https://docs.neptune.ai/you-should-know/what-can-you-log-and-display#hardware-consumption\n"
     ]
    },
    {
     "name": "stdout",
     "output_type": "stream",
     "text": [
      "Remember to stop your run once you’ve finished logging your metadata (https://docs.neptune.ai/api-reference/run#.stop). It will be stopped automatically only when the notebook kernel/interactive console is terminated.\n"
     ]
    }
   ],
   "source": [
    "import neptune.new as neptune\n",
    "\n",
    "run = neptune.init(\n",
    "    project=\"wolfgang.schwab/MLOPS\",\n",
    "    api_token=\"eyJhcGlfYWRkcmVzcyI6Imh0dHBzOi8vYXBwLm5lcHR1bmUuYWkiLCJhcGlfdXJsIjoiaHR0cHM6Ly9hcHAubmVwdHVuZS5haSIsImFwaV9rZXkiOiI3NGQxY2NhYS1mY2EwLTRjNjQtYWEyOS0xNWNkNTQzYjJkZDcifQ==\",\n",
    ")  # your credentials\n"
   ]
  },
  {
   "cell_type": "markdown",
   "metadata": {
    "tags": [
     "comment"
    ]
   },
   "source": [
    "You tell Neptune: \n",
    "\n",
    "* **who you are**: your Neptune API token `api_token` \n",
    "* **where you want to send your data**: your Neptune `project`.\n",
    "\n",
    "At this point you have new run in Neptune. For now on you will use `run` to log metadata to it.\n",
    "\n",
    "---\n",
    "\n",
    "**Note**\n",
    "\n",
    "\n",
    "Instead of logging data to the public project 'common/colab-test-run' as an anonymous user 'neptuner' you can log it to your own project.\n",
    "\n",
    "To do that:\n",
    "\n",
    "1. Get your [Neptune API token](https://docs.neptune.ai/getting-started/installation#authentication-neptune-api-token)\n",
    "2. Pass the token to ``api_token`` argument of ``neptune.init()`` method: ``api_token=YOUR_API_TOKEN``\n",
    "3. Pass your project to the ``project`` argument of the ``neptune.init()``.\n",
    "\n",
    "For example:\n",
    "\n",
    "```python\n",
    "neptune.init(project='my_workspace/my_project', \n",
    "             api_token='MY_API_TOKEN')\n",
    "```"
   ]
  },
  {
   "cell_type": "markdown",
   "metadata": {
    "colab_type": "text",
    "id": "Axi3bvZyERFs",
    "tags": [
     "header"
    ]
   },
   "source": [
    "## Basic Example"
   ]
  },
  {
   "cell_type": "markdown",
   "metadata": {
    "tags": [
     "comment"
    ]
   },
   "source": [
    "Lets start with something super simple.\n",
    "\n",
    "You will:\n",
    "* log parameters\n",
    "* log a training and validation scores\n",
    "* log loss\n",
    "* add name to the run\n",
    "* append two tags"
   ]
  },
  {
   "cell_type": "code",
   "execution_count": 3,
   "metadata": {
    "colab": {
     "base_uri": "https://localhost:8080/",
     "height": 34
    },
    "colab_type": "code",
    "id": "M-opxR0-DddI",
    "outputId": "9e2e8fbd-f006-4889-a9ad-2182f7c14761",
    "tags": [
     "code"
    ]
   },
   "outputs": [],
   "source": [
    "params = {\"learning_rate\": 0.1}\n",
    "\n",
    "# log params\n",
    "run[\"parameters\"] = params\n",
    "\n",
    "# log name and append tags\n",
    "run[\"sys/name\"] = \"basic-colab-example\"\n",
    "run[\"sys/tags\"].add([\"colab\", \"intro\"])\n",
    "\n",
    "# log loss during training\n",
    "for epoch in range(100):\n",
    "    run[\"train/loss\"].log(0.99 ** epoch)\n",
    "\n",
    "# log train and validation scores\n",
    "run[\"train/accuracy\"] = 0.95\n",
    "run[\"valid/accuracy\"] = 0.93"
   ]
  },
  {
   "cell_type": "markdown",
   "metadata": {
    "tags": [
     "comment"
    ]
   },
   "source": [
    "Runs can be viewed as dictionary-like structures - **namespaces** - that you can define in your code. You can apply hierarchical structure to your metadata that will be reflected in the UI as well. Thanks to this you can easily organize your metadata in a way you feel is most convenient.\n",
    "\n",
    "There is one special namespace: **system namespace**, denoted `sys`. You can use it to add name and tags to the run."
   ]
  },
  {
   "cell_type": "markdown",
   "metadata": {
    "tags": [
     "comment"
    ]
   },
   "source": [
    "Try to change the values and re-execute to see your runs appear in the dashboard."
   ]
  },
  {
   "cell_type": "markdown",
   "metadata": {
    "colab_type": "text",
    "id": "G6hnHaoZDl9u",
    "tags": [
     "comment"
    ]
   },
   "source": [
    "All `basic-colab-example` runs are grouped in [this dashboard view](https://app.neptune.ai/o/common/org/colab-test-run/experiments?viewId=2eb46477-0064-4617-a182-17f8a2fcc06a).\n",
    "\n",
    "![colab-runs](https://neptune.ai/wp-content/uploads/docs-api-tour.png)\n",
    "\n",
    "There are many other things that you can log to neptune:\n",
    "\n",
    "* Images and charts\n",
    "* Artifacts like model weights or results\n",
    "* Text values\n",
    "* Hardware consumption\n",
    "* Code snapshots\n",
    "* and more\n",
    "\n",
    "You can go and see all that in the [documentation](https://docs.neptune.ai/user-guides/logging-and-managing-runs-results/logging-runs-data) but you can check out the next example to see some of those.\n"
   ]
  },
  {
   "cell_type": "markdown",
   "metadata": {},
   "source": [
    "**Stop logging**  \n",
    "\n",
    "<font color=red>**Warning:**</font><br>\n",
    "Once you are done logging, you should stop tracking the run using the `stop()` method.\n",
    "This is needed only while logging from a notebook environment. While logging through a script, Neptune automatically stops tracking once the script has completed execution."
   ]
  },
  {
   "cell_type": "code",
   "execution_count": 2,
   "metadata": {
    "collapsed": false,
    "jupyter": {
     "outputs_hidden": false
    }
   },
   "outputs": [
    {
     "name": "stdout",
     "output_type": "stream",
     "text": [
      "Shutting down background jobs, please wait a moment...\n",
      "Done!\n"
     ]
    },
    {
     "name": "stderr",
     "output_type": "stream",
     "text": [
      "Waiting for the remaining 1 operations to synchronize with Neptune. Do not kill this process.\n"
     ]
    },
    {
     "name": "stdout",
     "output_type": "stream",
     "text": [
      "All 1 operations synced, thanks for waiting!\n",
      "Explore the metadata in the Neptune app:\n",
      "https://app.neptune.ai/wolfgang.schwab/MLOPS/e/MLOP-8\n"
     ]
    }
   ],
   "source": [
    "run.stop()"
   ]
  },
  {
   "cell_type": "markdown",
   "metadata": {
    "tags": [
     "header"
    ]
   },
   "source": [
    "## Keras classification example [Advanced]"
   ]
  },
  {
   "cell_type": "markdown",
   "metadata": {
    "tags": [
     "comment"
    ]
   },
   "source": [
    "Install and import your machine learning libraries"
   ]
  },
  {
   "cell_type": "code",
   "execution_count": null,
   "metadata": {
    "tags": [
     "installation"
    ]
   },
   "outputs": [],
   "source": [
    "! pip install scikit-plot==0.3.7 tensorflow==2.4.1"
   ]
  },
  {
   "cell_type": "code",
   "execution_count": 5,
   "metadata": {},
   "outputs": [],
   "source": [
    "import neptune.new as neptune"
   ]
  },
  {
   "cell_type": "markdown",
   "metadata": {
    "colab_type": "text",
    "id": "bVzPPgOb_0nV",
    "tags": [
     "comment"
    ]
   },
   "source": [
    "Get the data"
   ]
  },
  {
   "cell_type": "code",
   "execution_count": 2,
   "metadata": {
    "colab": {},
    "colab_type": "code",
    "id": "mBWKuQx53i6i",
    "tags": [
     "code"
    ]
   },
   "outputs": [
    {
     "name": "stdout",
     "output_type": "stream",
     "text": [
      "Downloading data from https://storage.googleapis.com/tensorflow/tf-keras-datasets/mnist.npz\n",
      "11493376/11490434 [==============================] - 3s 0us/step\n"
     ]
    }
   ],
   "source": [
    "import tensorflow as tf\n",
    "import tensorflow.keras\n",
    "\n",
    "mnist = tf.keras.datasets.mnist\n",
    "\n",
    "(x_train, y_train), (x_test, y_test) = mnist.load_data()\n",
    "x_train, x_test = x_train / 255.0, x_test / 255.0"
   ]
  },
  {
   "cell_type": "markdown",
   "metadata": {
    "colab_type": "text",
    "id": "bVzPPgOb_0nV",
    "tags": [
     "comment"
    ]
   },
   "source": [
    "Prepare the model"
   ]
  },
  {
   "cell_type": "code",
   "execution_count": 3,
   "metadata": {
    "colab": {},
    "colab_type": "code",
    "id": "j_vS4kUb3uu4",
    "tags": [
     "code"
    ]
   },
   "outputs": [],
   "source": [
    "model = tf.keras.models.Sequential(\n",
    "    [\n",
    "        tf.keras.layers.Flatten(input_shape=(28, 28)),\n",
    "        tf.keras.layers.Dense(512, activation=\"relu\"),\n",
    "        tf.keras.layers.Dropout(0.2),\n",
    "        tf.keras.layers.Dense(10, activation=\"softmax\"),\n",
    "    ]\n",
    ")\n",
    "\n",
    "model.compile(\n",
    "    optimizer=\"sgd\", loss=\"sparse_categorical_crossentropy\", metrics=[\"accuracy\"]\n",
    ")"
   ]
  },
  {
   "cell_type": "markdown",
   "metadata": {
    "colab_type": "text",
    "id": "pRMM3rQDADHK",
    "tags": [
     "comment"
    ]
   },
   "source": [
    "To log metrics after every batch and epoch let's create `NeptuneLogger` callback:"
   ]
  },
  {
   "cell_type": "code",
   "execution_count": 4,
   "metadata": {
    "colab": {},
    "colab_type": "code",
    "id": "e-qXSos03F61",
    "tags": [
     "code"
    ]
   },
   "outputs": [],
   "source": [
    "from tensorflow.keras.callbacks import Callback\n",
    "\n",
    "\n",
    "class NeptuneLogger(Callback):\n",
    "    def on_batch_end(self, batch, logs={}):\n",
    "        for log_name, log_value in logs.items():\n",
    "            run[\"batch/{}\".format(log_name)].log(log_value)\n",
    "\n",
    "    def on_epoch_end(self, epoch, logs={}):\n",
    "        for log_name, log_value in logs.items():\n",
    "            run[\"epoch/{}\".format(log_name)].log(log_value)"
   ]
  },
  {
   "cell_type": "markdown",
   "metadata": {
    "colab_type": "text",
    "id": "eWHRrJa8AOU2",
    "tags": [
     "comment"
    ]
   },
   "source": [
    "Now we simply need to create a run.\n",
    "I will tag it with the name `advanced` and log hyperparameters `epoch_nr` and `batch_size`: "
   ]
  },
  {
   "cell_type": "code",
   "execution_count": 9,
   "metadata": {
    "colab": {
     "base_uri": "https://localhost:8080/",
     "height": 51
    },
    "colab_type": "code",
    "id": "yL1LRdOIW9SM",
    "outputId": "f7456bdf-a223-43e8-82f5-92ae45ab6f8b",
    "tags": [
     "code"
    ]
   },
   "outputs": [
    {
     "name": "stdout",
     "output_type": "stream",
     "text": [
      "https://app.neptune.ai/wolfgang.schwab/MLOPS/e/MLOP-10\n",
      "Remember to stop your run once you’ve finished logging your metadata (https://docs.neptune.ai/api-reference/run#.stop). It will be stopped automatically only when the notebook kernel/interactive console is terminated.\n"
     ]
    }
   ],
   "source": [
    "EPOCH_NR = 5\n",
    "BATCH_SIZE = 32\n",
    "\n",
    "run = neptune.init(\n",
    "    source_files=[\"Neptune_API_Tour.ipynb\"],\n",
    "    project=\"wolfgang.schwab/MLOPS\",\n",
    "    api_token=\"eyJhcGlfYWRkcmVzcyI6Imh0dHBzOi8vYXBwLm5lcHR1bmUuYWkiLCJhcGlfdXJsIjoiaHR0cHM6Ly9hcHAubmVwdHVuZS5haSIsImFwaV9rZXkiOiI3NGQxY2NhYS1mY2EwLTRjNjQtYWEyOS0xNWNkNTQzYjJkZDcifQ==\",\n",
    ")  # your credentials\n",
    "\n",
    "# log params\n",
    "run[\"parameters/epoch_nr\"] = EPOCH_NR\n",
    "run[\"parameters/batch_size\"] = BATCH_SIZE\n",
    "\n",
    "# log name and append tag\n",
    "run[\"sys/name\"] = \"keras-metrics\"\n",
    "run[\"sys/tags\"].add(\"advanced\")"
   ]
  },
  {
   "cell_type": "markdown",
   "metadata": {
    "colab_type": "text",
    "id": "ta0dkCEv998B",
    "tags": [
     "comment"
    ]
   },
   "source": [
    "Now we pass our `NeptuneLogger` as keras callback and thats it."
   ]
  },
  {
   "cell_type": "code",
   "execution_count": 7,
   "metadata": {
    "colab": {
     "base_uri": "https://localhost:8080/",
     "height": 292
    },
    "colab_type": "code",
    "id": "0Z6yLLMf3WZf",
    "outputId": "72f5bd1d-16e4-40ad-db52-4276e315577e",
    "tags": [
     "code"
    ]
   },
   "outputs": [
    {
     "name": "stdout",
     "output_type": "stream",
     "text": [
      "Epoch 1/5\n",
      "1875/1875 [==============================] - 7s 3ms/step - loss: 0.6422 - accuracy: 0.8321 - val_loss: 0.3437 - val_accuracy: 0.9084\n",
      "Epoch 2/5\n",
      "1875/1875 [==============================] - 7s 4ms/step - loss: 0.3433 - accuracy: 0.9038 - val_loss: 0.2792 - val_accuracy: 0.9224\n",
      "Epoch 3/5\n",
      "1875/1875 [==============================] - 8s 4ms/step - loss: 0.2881 - accuracy: 0.9190 - val_loss: 0.2469 - val_accuracy: 0.9309\n",
      "Epoch 4/5\n",
      "1875/1875 [==============================] - 9s 5ms/step - loss: 0.2566 - accuracy: 0.9278 - val_loss: 0.2215 - val_accuracy: 0.9375\n",
      "Epoch 5/5\n",
      "1875/1875 [==============================] - 8s 4ms/step - loss: 0.2314 - accuracy: 0.9351 - val_loss: 0.2013 - val_accuracy: 0.9436\n"
     ]
    }
   ],
   "source": [
    "history = model.fit(\n",
    "    x=x_train,\n",
    "    y=y_train,\n",
    "    epochs=EPOCH_NR,\n",
    "    batch_size=BATCH_SIZE,\n",
    "    validation_data=(x_test, y_test),\n",
    "    callbacks=[NeptuneLogger()],\n",
    ")"
   ]
  },
  {
   "cell_type": "markdown",
   "metadata": {
    "colab_type": "text",
    "id": "9XWW1thT-BNj",
    "tags": [
     "comment"
    ]
   },
   "source": [
    "You can click on the run link above and monitor your learning curves as it is training!\n",
    "\n",
    "![advanced](https://neptune.ai/wp-content/uploads/docs-api-tour-2.png)\n",
    "\n",
    "Great thing is, you can log more things if you need to during or after the training is finished.\n",
    "\n",
    "For example, let's calculate some additional metrics on test data and log them."
   ]
  },
  {
   "cell_type": "code",
   "execution_count": null,
   "metadata": {
    "colab": {},
    "colab_type": "code",
    "id": "B7s1Jpw-5D0p",
    "tags": [
     "code"
    ]
   },
   "outputs": [],
   "source": [
    "import numpy as np\n",
    "\n",
    "y_test_pred = np.asarray(model.predict(x_test))\n",
    "y_test_pred_class = np.argmax(y_test_pred, axis=1)"
   ]
  },
  {
   "cell_type": "code",
   "execution_count": null,
   "metadata": {
    "colab": {},
    "colab_type": "code",
    "id": "L9yva_6V4uBh",
    "tags": [
     "code"
    ]
   },
   "outputs": [],
   "source": [
    "from sklearn.metrics import f1_score\n",
    "\n",
    "run[\"test/f1\"] = f1_score(y_test, y_test_pred_class, average=\"micro\")"
   ]
  },
  {
   "cell_type": "markdown",
   "metadata": {
    "colab_type": "text",
    "id": "AQ_9BX8o-L2K",
    "tags": [
     "comment"
    ]
   },
   "source": [
    "We can log diagnostic charts like confusion matrix or ROC AUC curve."
   ]
  },
  {
   "cell_type": "code",
   "execution_count": null,
   "metadata": {
    "colab": {
     "base_uri": "https://localhost:8080/",
     "height": 1000
    },
    "colab_type": "code",
    "id": "H-l88eLG5N3b",
    "outputId": "68eb13f1-fae2-4439-f109-25f003cc8519",
    "tags": [
     "code"
    ]
   },
   "outputs": [],
   "source": [
    "import matplotlib.pyplot as plt\n",
    "from scikitplot.metrics import plot_confusion_matrix, plot_roc\n",
    "\n",
    "fig, ax = plt.subplots(figsize=(16, 12))\n",
    "plot_confusion_matrix(y_test, y_test_pred_class, ax=ax)\n",
    "run[\"diagnostic_charts\"].log(neptune.types.File.as_image(fig))\n",
    "\n",
    "fig, ax = plt.subplots(figsize=(16, 12))\n",
    "plot_roc(y_test, y_test_pred, ax=ax)\n",
    "run[\"diagnostic_charts\"].log(neptune.types.File.as_image(fig))"
   ]
  },
  {
   "cell_type": "markdown",
   "metadata": {
    "colab_type": "text",
    "id": "riS6P6eq-ULv",
    "tags": [
     "comment"
    ]
   },
   "source": [
    "![alt text](https://neptune.ai/wp-content/uploads/docs-api-tour-charts.png)\n",
    "\n",
    "We can also log model weights to Neptune."
   ]
  },
  {
   "cell_type": "code",
   "execution_count": null,
   "metadata": {
    "colab": {},
    "colab_type": "code",
    "id": "x8usf_QZ44_b",
    "tags": [
     "code"
    ]
   },
   "outputs": [],
   "source": [
    "model.save(\"my_model.h5\")\n",
    "run[\"model\"].upload(\"my_model.h5\")"
   ]
  },
  {
   "cell_type": "markdown",
   "metadata": {
    "colab_type": "text",
    "id": "EiFgEMDm4h0Y",
    "tags": [
     "comment"
    ]
   },
   "source": [
    "![alt text](https://neptune.ai/wp-content/uploads/docs-api-tour-model.png)\n",
    "\n",
    "With that you can share models with your teammates easily."
   ]
  },
  {
   "cell_type": "markdown",
   "metadata": {
    "colab_type": "text",
    "id": "Xh9Vfi0nXUa_",
    "tags": [
     "comment"
    ]
   },
   "source": [
    "You can play around and execute this run with different parameters and see results and compare them.\n",
    "\n",
    "Like I've done here:\n",
    "\n",
    "![alt text](https://neptune.ai/wp-content/uploads/docs-api-tour-compare.png)\n",
    "\n",
    "A cool thing is, once things are logged to Neptune you can access them from wherever you want.\n",
    "Let me show you. \n",
    "\n"
   ]
  },
  {
   "cell_type": "markdown",
   "metadata": {
    "tags": [
     "header"
    ]
   },
   "source": [
    "## Access data you logged programatically "
   ]
  },
  {
   "cell_type": "markdown",
   "metadata": {
    "tags": [
     "header"
    ]
   },
   "source": [
    "## Getting the project's leaderboard"
   ]
  },
  {
   "cell_type": "markdown",
   "metadata": {
    "tags": [
     "comment"
    ]
   },
   "source": [
    "You can use the Project object to get aggregate data of all your runs. Here, fetch only runs with tag 'advanced'."
   ]
  },
  {
   "cell_type": "code",
   "execution_count": null,
   "metadata": {
    "tags": [
     "code"
    ]
   },
   "outputs": [],
   "source": [
    "my_project = neptune.get_project(name=\"common/colab-test-run\", api_token=\"ANONYMOUS\")\n",
    "run_df = my_project.fetch_runs_table(tag=[\"advanced\"]).to_pandas()\n",
    "run_df.head()"
   ]
  },
  {
   "cell_type": "markdown",
   "metadata": {},
   "source": [
    "**Stop logging** \n",
    "\n",
    "<font color=red>**Warning:**</font><br>\n",
    "Once you are done logging, you should stop tracking the run using the `stop()` method.\n",
    "This is needed only while logging from a notebook environment. While logging through a script, Neptune automatically stops tracking once the script has completed execution."
   ]
  },
  {
   "cell_type": "code",
   "execution_count": 8,
   "metadata": {
    "collapsed": false,
    "jupyter": {
     "outputs_hidden": false
    }
   },
   "outputs": [
    {
     "name": "stdout",
     "output_type": "stream",
     "text": [
      "Shutting down background jobs, please wait a moment...\n",
      "Done!\n"
     ]
    },
    {
     "name": "stderr",
     "output_type": "stream",
     "text": [
      "Waiting for the remaining 1 operations to synchronize with Neptune. Do not kill this process.\n"
     ]
    },
    {
     "name": "stdout",
     "output_type": "stream",
     "text": [
      "All 1 operations synced, thanks for waiting!\n",
      "Explore the metadata in the Neptune app:\n",
      "https://app.neptune.ai/wolfgang.schwab/MLOPS/e/MLOP-9\n"
     ]
    }
   ],
   "source": [
    "run.stop()"
   ]
  },
  {
   "cell_type": "markdown",
   "metadata": {
    "tags": [
     "header"
    ]
   },
   "source": [
    "## Getting the run's metadata"
   ]
  },
  {
   "cell_type": "markdown",
   "metadata": {
    "tags": [
     "comment"
    ]
   },
   "source": [
    "Neptune lets you fetch whatever you logged to it directly to your notebooks and scripts."
   ]
  },
  {
   "cell_type": "code",
   "execution_count": null,
   "metadata": {
    "colab": {
     "base_uri": "https://localhost:8080/",
     "height": 54
    },
    "colab_type": "code",
    "id": "SCa2DlfDXmyh",
    "outputId": "61d4453c-8bd8-44bc-be60-9361e48511d9",
    "tags": [
     "code"
    ]
   },
   "outputs": [],
   "source": [
    "run = neptune.init(project=\"common/colab-test-run\", api_token=\"ANONYMOUS\", run=\"COL-7\")"
   ]
  },
  {
   "cell_type": "markdown",
   "metadata": {
    "colab_type": "text",
    "id": "WA2OWYxmYPg3",
    "tags": [
     "comment"
    ]
   },
   "source": [
    "Now that your run is *fetched* you can download the metadata."
   ]
  },
  {
   "cell_type": "code",
   "execution_count": null,
   "metadata": {
    "colab": {
     "base_uri": "https://localhost:8080/",
     "height": 204
    },
    "colab_type": "code",
    "id": "UJ2ttIZ6YyRc",
    "outputId": "615ba5d2-88bc-415e-8a27-7461ea384d95",
    "tags": [
     "code"
    ]
   },
   "outputs": [],
   "source": [
    "batch_size = run[\"parameters/batch_size\"].fetch()\n",
    "last_batch_acc = run[\"batch/accuracy\"].fetch_last()\n",
    "print(\"batch_size: {}\".format(batch_size))\n",
    "print(\"last_batch_acc: {}\".format(last_batch_acc))"
   ]
  },
  {
   "cell_type": "markdown",
   "metadata": {
    "colab_type": "text",
    "id": "wyGzGc7CZFHc",
    "tags": [
     "comment"
    ]
   },
   "source": [
    "You can even download artifacts from that run if you want to:\n",
    "\n"
   ]
  },
  {
   "cell_type": "code",
   "execution_count": null,
   "metadata": {
    "colab": {},
    "colab_type": "code",
    "id": "O8v9MZsC_asr",
    "tags": [
     "code",
     "exclude"
    ]
   },
   "outputs": [],
   "source": [
    "run[\"model\"].download()"
   ]
  },
  {
   "cell_type": "code",
   "execution_count": null,
   "metadata": {
    "colab": {
     "base_uri": "https://localhost:8080/",
     "height": 34
    },
    "colab_type": "code",
    "id": "6WIlQbJv_kCo",
    "outputId": "272c2d10-926b-46b2-f07a-ca577b37c3e8",
    "tags": [
     "bash_code",
     "exclude"
    ]
   },
   "outputs": [],
   "source": [
    "! ls ./"
   ]
  },
  {
   "cell_type": "markdown",
   "metadata": {
    "colab_type": "text",
    "id": "sPLP5i70U-6S",
    "tags": [
     "comment"
    ]
   },
   "source": [
    "## Learn more about Neptune\n",
    "\n",
    "Read about other Neptune features, create your free account and start logging!\n",
    "\n",
    "[Go to Neptune](https://neptune.ai/register)"
   ]
  }
 ],
 "metadata": {
  "colab": {
   "collapsed_sections": [],
   "name": "Neptune-API-Tour.ipynb",
   "provenance": []
  },
  "kernelspec": {
   "display_name": "Python 3",
   "language": "python",
   "name": "python3"
  },
  "language_info": {
   "codemirror_mode": {
    "name": "ipython",
    "version": 3
   },
   "file_extension": ".py",
   "mimetype": "text/x-python",
   "name": "python",
   "nbconvert_exporter": "python",
   "pygments_lexer": "ipython3",
   "version": "3.9.1"
  }
 },
 "nbformat": 4,
 "nbformat_minor": 4
}
